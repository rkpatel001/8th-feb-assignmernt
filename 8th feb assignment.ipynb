{
 "cells": [
  {
   "cell_type": "code",
   "execution_count": 1,
   "id": "e6f6cc4b-d90d-47f7-91e9-67273d0ac1f6",
   "metadata": {},
   "outputs": [],
   "source": [
    "# Q1. What is Abstraction in OOps? Explain with an example.\n",
    "\n",
    "# Abstraction is the process of hiding the internal details of an application from the outer world. \n",
    "# Abstraction is used to describe things in simple terms. "
   ]
  },
  {
   "cell_type": "code",
   "execution_count": null,
   "id": "679772b7-7d93-4733-b7f5-f2037ee34b2c",
   "metadata": {},
   "outputs": [],
   "source": [
    "'''Q2. Differentiate between Abstraction and Encapsulation. Explain with an example'''\n",
    "\n",
    "'''abstraction is use to hide details from the outer world\n",
    "   encapsulation is use to hide data '''"
   ]
  },
  {
   "cell_type": "code",
   "execution_count": null,
   "id": "d390702d-0374-4625-bc1e-4629e1dec940",
   "metadata": {},
   "outputs": [],
   "source": [
    "# Q3. What is abc module in python? Why is it used?\n",
    "\n",
    "# This module provides thr infrastructure for abstraction base classes "
   ]
  },
  {
   "cell_type": "code",
   "execution_count": null,
   "id": "885f437e-ccfb-474d-8818-5120ea43960b",
   "metadata": {},
   "outputs": [],
   "source": [
    "'''Q4. How can we achieve data abstraction?\n",
    "\n",
    "Data abstraction is a method where essential elements are displayed to the user and trivial elements are kept hidden. In pthon, \n",
    "abstraction is achieved by using the abstract keyword for classes and interfaces'''"
   ]
  },
  {
   "cell_type": "code",
   "execution_count": null,
   "id": "54afc093-3cdf-43b3-9b27-6a37ac2774ce",
   "metadata": {},
   "outputs": [],
   "source": [
    "# Q5. Can we create an instance of an abstract class? Explain your answer.\n",
    "\n"
   ]
  }
 ],
 "metadata": {
  "kernelspec": {
   "display_name": "Python 3 (ipykernel)",
   "language": "python",
   "name": "python3"
  },
  "language_info": {
   "codemirror_mode": {
    "name": "ipython",
    "version": 3
   },
   "file_extension": ".py",
   "mimetype": "text/x-python",
   "name": "python",
   "nbconvert_exporter": "python",
   "pygments_lexer": "ipython3",
   "version": "3.10.8"
  }
 },
 "nbformat": 4,
 "nbformat_minor": 5
}
